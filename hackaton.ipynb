{
 "cells": [
  {
   "cell_type": "code",
   "execution_count": 1,
   "id": "e0fe270e-6b68-4f57-b480-4cd90a5360f6",
   "metadata": {
    "execution": {
     "iopub.execute_input": "2023-11-25T09:45:10.699347Z",
     "iopub.status.busy": "2023-11-25T09:45:10.698143Z",
     "iopub.status.idle": "2023-11-25T09:45:12.521687Z",
     "shell.execute_reply": "2023-11-25T09:45:12.520439Z",
     "shell.execute_reply.started": "2023-11-25T09:45:10.699283Z"
    },
    "tags": []
   },
   "outputs": [],
   "source": [
    "# Импорт основных библиотек\n",
    "import numpy as np\n",
    "import pandas as pd\n",
    "#Импортирование библиотек, загрузка файла\n",
    "import pandas as pd              #Импорт библиотеки Pandas\n",
    "import numpy as np               #Импорт библиотеки Numpy\n",
    "import seaborn as sns            #Импорт библиотеки Seaborn\n",
    "import matplotlib.pyplot as plt  #Импорт библиотеки Matplotlib\n",
    "\n",
    "\n",
    "\n",
    "# Импорт библиотек построения графиков и диаграмм\n",
    "from matplotlib import pyplot as plt\n",
    "import seaborn as sns\n",
    "\n",
    "# Указание режима отображения диаграмм\n",
    "%matplotlib inline\n",
    "\n",
    "# Импорт основных библиотек машинного обучения\n",
    "from sklearn.model_selection import train_test_split\n",
    "from sklearn.model_selection import GridSearchCV\n",
    "from sklearn.model_selection import cross_val_score\n",
    "from sklearn.model_selection import cross_val_predict\n",
    "from sklearn.preprocessing import MinMaxScaler\n",
    "\n",
    "# Импорт библиотек моделей машинного обучения\n",
    "from sklearn.linear_model import LogisticRegression\n",
    "\n",
    "\n",
    "from sklearn.model_selection import train_test_split\n",
    "from sklearn.metrics import mean_squared_error\n",
    "from sklearn.neighbors import KNeighborsClassifier\n",
    "from sklearn.naive_bayes import GaussianNB\n",
    "from sklearn.svm import SVC\n",
    "from sklearn.ensemble import RandomForestClassifier\n",
    "from sklearn.ensemble import RandomForestRegressor\n",
    "from xgboost import XGBClassifier\n",
    "from xgboost import XGBRegressor\n",
    "from xgboost import XGBClassifier\n",
    "from lightgbm import LGBMRegressor\n",
    "from lightgbm import LGBMClassifier\n",
    "\n",
    "# Импорт библиотек отбора признаков\n",
    "from sklearn.feature_selection import RFE\n",
    "\n",
    "# Импорт библиотек оценки моделей машинного обучения\n",
    "from sklearn.metrics import recall_score\n",
    "from sklearn.metrics import precision_score\n",
    "from sklearn.metrics import roc_auc_score\n",
    "from sklearn.metrics import confusion_matrix"
   ]
  },
  {
   "cell_type": "code",
   "execution_count": 2,
   "id": "e8b5a84f-b6e4-42cc-aa97-b514d8791b83",
   "metadata": {
    "execution": {
     "iopub.execute_input": "2023-11-25T09:45:12.523888Z",
     "iopub.status.busy": "2023-11-25T09:45:12.523323Z",
     "iopub.status.idle": "2023-11-25T09:45:15.642634Z",
     "shell.execute_reply": "2023-11-25T09:45:15.641363Z",
     "shell.execute_reply.started": "2023-11-25T09:45:12.523839Z"
    },
    "tags": []
   },
   "outputs": [],
   "source": [
    "train_data = pd.read_parquet(\"/home/jupyter/datasphere/project/train_dataset_hackaton2023_train.gzip\");"
   ]
  },
  {
   "cell_type": "code",
   "execution_count": 3,
   "id": "557c159b-0311-41ba-a2bd-683ef98663fc",
   "metadata": {
    "execution": {
     "iopub.execute_input": "2023-11-25T09:45:15.645389Z",
     "iopub.status.busy": "2023-11-25T09:45:15.644478Z",
     "iopub.status.idle": "2023-11-25T09:45:15.889218Z",
     "shell.execute_reply": "2023-11-25T09:45:15.888080Z",
     "shell.execute_reply.started": "2023-11-25T09:45:15.645340Z"
    },
    "tags": []
   },
   "outputs": [],
   "source": [
    "train_data['date_diff_post'] = train_data['date_diff_post'].fillna(0)"
   ]
  },
  {
   "cell_type": "code",
   "execution_count": 4,
   "id": "e9dc55a4-7a06-47a7-83eb-235ca3c3c9ab",
   "metadata": {
    "execution": {
     "iopub.execute_input": "2023-11-25T09:45:15.892547Z",
     "iopub.status.busy": "2023-11-25T09:45:15.891442Z",
     "iopub.status.idle": "2023-11-25T09:45:18.726662Z",
     "shell.execute_reply": "2023-11-25T09:45:18.725614Z",
     "shell.execute_reply.started": "2023-11-25T09:45:15.892498Z"
    },
    "tags": []
   },
   "outputs": [
    {
     "data": {
      "text/html": [
       "<div>\n",
       "<style scoped>\n",
       "    .dataframe tbody tr th:only-of-type {\n",
       "        vertical-align: middle;\n",
       "    }\n",
       "\n",
       "    .dataframe tbody tr th {\n",
       "        vertical-align: top;\n",
       "    }\n",
       "\n",
       "    .dataframe thead th {\n",
       "        text-align: right;\n",
       "    }\n",
       "</style>\n",
       "<table border=\"1\" class=\"dataframe\">\n",
       "  <thead>\n",
       "    <tr style=\"text-align: right;\">\n",
       "      <th></th>\n",
       "      <th>customer_id</th>\n",
       "      <th>date_diff_post</th>\n",
       "      <th>buy_post</th>\n",
       "      <th>revenue</th>\n",
       "      <th>ownareaall_sqm</th>\n",
       "    </tr>\n",
       "  </thead>\n",
       "  <tbody>\n",
       "    <tr>\n",
       "      <th>count</th>\n",
       "      <td>1.212938e+07</td>\n",
       "      <td>1.212938e+07</td>\n",
       "      <td>1.212938e+07</td>\n",
       "      <td>1.212938e+07</td>\n",
       "      <td>1.212938e+07</td>\n",
       "    </tr>\n",
       "    <tr>\n",
       "      <th>mean</th>\n",
       "      <td>1.980954e+07</td>\n",
       "      <td>1.631231e+01</td>\n",
       "      <td>7.964846e-01</td>\n",
       "      <td>1.067995e+02</td>\n",
       "      <td>2.155130e+02</td>\n",
       "    </tr>\n",
       "    <tr>\n",
       "      <th>std</th>\n",
       "      <td>1.138904e+07</td>\n",
       "      <td>1.592896e+01</td>\n",
       "      <td>4.026126e-01</td>\n",
       "      <td>1.074385e+02</td>\n",
       "      <td>1.225907e+02</td>\n",
       "    </tr>\n",
       "    <tr>\n",
       "      <th>min</th>\n",
       "      <td>2.989100e+04</td>\n",
       "      <td>0.000000e+00</td>\n",
       "      <td>0.000000e+00</td>\n",
       "      <td>1.000000e-02</td>\n",
       "      <td>0.000000e+00</td>\n",
       "    </tr>\n",
       "    <tr>\n",
       "      <th>25%</th>\n",
       "      <td>1.010852e+07</td>\n",
       "      <td>2.000000e+00</td>\n",
       "      <td>1.000000e+00</td>\n",
       "      <td>4.499000e+01</td>\n",
       "      <td>1.049000e+02</td>\n",
       "    </tr>\n",
       "    <tr>\n",
       "      <th>50%</th>\n",
       "      <td>2.127459e+07</td>\n",
       "      <td>1.200000e+01</td>\n",
       "      <td>1.000000e+00</td>\n",
       "      <td>7.998000e+01</td>\n",
       "      <td>2.104000e+02</td>\n",
       "    </tr>\n",
       "    <tr>\n",
       "      <th>75%</th>\n",
       "      <td>2.803856e+07</td>\n",
       "      <td>2.600000e+01</td>\n",
       "      <td>1.000000e+00</td>\n",
       "      <td>1.317725e+02</td>\n",
       "      <td>3.000000e+02</td>\n",
       "    </tr>\n",
       "    <tr>\n",
       "      <th>max</th>\n",
       "      <td>4.666180e+07</td>\n",
       "      <td>6.000000e+01</td>\n",
       "      <td>1.000000e+00</td>\n",
       "      <td>1.449971e+04</td>\n",
       "      <td>9.787000e+02</td>\n",
       "    </tr>\n",
       "  </tbody>\n",
       "</table>\n",
       "</div>"
      ],
      "text/plain": [
       "        customer_id  date_diff_post      buy_post       revenue  ownareaall_sqm\n",
       "count  1.212938e+07    1.212938e+07  1.212938e+07  1.212938e+07    1.212938e+07\n",
       "mean   1.980954e+07    1.631231e+01  7.964846e-01  1.067995e+02    2.155130e+02\n",
       "std    1.138904e+07    1.592896e+01  4.026126e-01  1.074385e+02    1.225907e+02\n",
       "min    2.989100e+04    0.000000e+00  0.000000e+00  1.000000e-02    0.000000e+00\n",
       "25%    1.010852e+07    2.000000e+00  1.000000e+00  4.499000e+01    1.049000e+02\n",
       "50%    2.127459e+07    1.200000e+01  1.000000e+00  7.998000e+01    2.104000e+02\n",
       "75%    2.803856e+07    2.600000e+01  1.000000e+00  1.317725e+02    3.000000e+02\n",
       "max    4.666180e+07    6.000000e+01  1.000000e+00  1.449971e+04    9.787000e+02"
      ]
     },
     "execution_count": 4,
     "metadata": {},
     "output_type": "execute_result"
    }
   ],
   "source": [
    "# Основные статистические характеристики обучающего набора данных\n",
    "train_data.describe()"
   ]
  },
  {
   "cell_type": "code",
   "execution_count": 5,
   "id": "c22286fe-a390-4af7-a56a-8385ddd7c62b",
   "metadata": {
    "execution": {
     "iopub.execute_input": "2023-11-25T09:45:18.729062Z",
     "iopub.status.busy": "2023-11-25T09:45:18.727902Z",
     "iopub.status.idle": "2023-11-25T09:45:18.749995Z",
     "shell.execute_reply": "2023-11-25T09:45:18.748795Z",
     "shell.execute_reply.started": "2023-11-25T09:45:18.729009Z"
    },
    "tags": []
   },
   "outputs": [
    {
     "name": "stdout",
     "output_type": "stream",
     "text": [
      "<class 'pandas.core.frame.DataFrame'>\n",
      "Int64Index: 12129384 entries, 0 to 24261978\n",
      "Data columns (total 9 columns):\n",
      " #   Column          Dtype         \n",
      "---  ------          -----         \n",
      " 0   customer_id     int64         \n",
      " 1   date_diff_post  float64       \n",
      " 2   buy_post        int64         \n",
      " 3   group_name      object        \n",
      " 4   revenue         float64       \n",
      " 5   startdatetime   datetime64[ns]\n",
      " 6   dish_name       object        \n",
      " 7   ownareaall_sqm  float64       \n",
      " 8   format_name     object        \n",
      "dtypes: datetime64[ns](1), float64(3), int64(2), object(3)\n",
      "memory usage: 925.4+ MB\n"
     ]
    }
   ],
   "source": [
    "# Проверка типов данных и пропущенных значений в обучающем наборе данных\n",
    "train_data.info()"
   ]
  },
  {
   "cell_type": "code",
   "execution_count": 6,
   "id": "56fcee8d-40b5-4252-b3c9-36a9ea9bff2f",
   "metadata": {
    "execution": {
     "iopub.execute_input": "2023-11-25T09:45:18.752171Z",
     "iopub.status.busy": "2023-11-25T09:45:18.751261Z",
     "iopub.status.idle": "2023-11-25T09:45:35.931453Z",
     "shell.execute_reply": "2023-11-25T09:45:35.930172Z",
     "shell.execute_reply.started": "2023-11-25T09:45:18.752136Z"
    },
    "tags": []
   },
   "outputs": [
    {
     "data": {
      "text/html": [
       "<div>\n",
       "<style scoped>\n",
       "    .dataframe tbody tr th:only-of-type {\n",
       "        vertical-align: middle;\n",
       "    }\n",
       "\n",
       "    .dataframe tbody tr th {\n",
       "        vertical-align: top;\n",
       "    }\n",
       "\n",
       "    .dataframe thead th {\n",
       "        text-align: right;\n",
       "    }\n",
       "</style>\n",
       "<table border=\"1\" class=\"dataframe\">\n",
       "  <thead>\n",
       "    <tr style=\"text-align: right;\">\n",
       "      <th></th>\n",
       "      <th>customer_id</th>\n",
       "      <th>date_diff_post</th>\n",
       "      <th>buy_post</th>\n",
       "      <th>revenue</th>\n",
       "      <th>startdatetime</th>\n",
       "      <th>dish_name</th>\n",
       "      <th>ownareaall_sqm</th>\n",
       "      <th>format_name</th>\n",
       "    </tr>\n",
       "  </thead>\n",
       "  <tbody>\n",
       "    <tr>\n",
       "      <th>0</th>\n",
       "      <td>29891</td>\n",
       "      <td>9.0</td>\n",
       "      <td>1</td>\n",
       "      <td>69.99</td>\n",
       "      <td>1670241838</td>\n",
       "      <td>589</td>\n",
       "      <td>363</td>\n",
       "      <td>2</td>\n",
       "    </tr>\n",
       "    <tr>\n",
       "      <th>1</th>\n",
       "      <td>29891</td>\n",
       "      <td>9.0</td>\n",
       "      <td>1</td>\n",
       "      <td>190.00</td>\n",
       "      <td>1670241838</td>\n",
       "      <td>982</td>\n",
       "      <td>363</td>\n",
       "      <td>2</td>\n",
       "    </tr>\n",
       "    <tr>\n",
       "      <th>2</th>\n",
       "      <td>29891</td>\n",
       "      <td>9.0</td>\n",
       "      <td>1</td>\n",
       "      <td>9.99</td>\n",
       "      <td>1670241838</td>\n",
       "      <td>900</td>\n",
       "      <td>363</td>\n",
       "      <td>2</td>\n",
       "    </tr>\n",
       "    <tr>\n",
       "      <th>3</th>\n",
       "      <td>29891</td>\n",
       "      <td>9.0</td>\n",
       "      <td>1</td>\n",
       "      <td>119.99</td>\n",
       "      <td>1670241838</td>\n",
       "      <td>1035</td>\n",
       "      <td>363</td>\n",
       "      <td>2</td>\n",
       "    </tr>\n",
       "    <tr>\n",
       "      <th>4</th>\n",
       "      <td>29891</td>\n",
       "      <td>9.0</td>\n",
       "      <td>1</td>\n",
       "      <td>119.99</td>\n",
       "      <td>1670250515</td>\n",
       "      <td>625</td>\n",
       "      <td>363</td>\n",
       "      <td>2</td>\n",
       "    </tr>\n",
       "    <tr>\n",
       "      <th>...</th>\n",
       "      <td>...</td>\n",
       "      <td>...</td>\n",
       "      <td>...</td>\n",
       "      <td>...</td>\n",
       "      <td>...</td>\n",
       "      <td>...</td>\n",
       "      <td>...</td>\n",
       "      <td>...</td>\n",
       "    </tr>\n",
       "    <tr>\n",
       "      <th>24261974</th>\n",
       "      <td>46661804</td>\n",
       "      <td>0.0</td>\n",
       "      <td>0</td>\n",
       "      <td>7.99</td>\n",
       "      <td>1690913096</td>\n",
       "      <td>1021</td>\n",
       "      <td>363</td>\n",
       "      <td>8</td>\n",
       "    </tr>\n",
       "    <tr>\n",
       "      <th>24261975</th>\n",
       "      <td>46661804</td>\n",
       "      <td>0.0</td>\n",
       "      <td>0</td>\n",
       "      <td>84.98</td>\n",
       "      <td>1690913096</td>\n",
       "      <td>501</td>\n",
       "      <td>363</td>\n",
       "      <td>8</td>\n",
       "    </tr>\n",
       "    <tr>\n",
       "      <th>24261976</th>\n",
       "      <td>46661804</td>\n",
       "      <td>0.0</td>\n",
       "      <td>0</td>\n",
       "      <td>70.03</td>\n",
       "      <td>1690913096</td>\n",
       "      <td>719</td>\n",
       "      <td>363</td>\n",
       "      <td>8</td>\n",
       "    </tr>\n",
       "    <tr>\n",
       "      <th>24261977</th>\n",
       "      <td>46661804</td>\n",
       "      <td>0.0</td>\n",
       "      <td>0</td>\n",
       "      <td>19.00</td>\n",
       "      <td>1690913096</td>\n",
       "      <td>916</td>\n",
       "      <td>363</td>\n",
       "      <td>8</td>\n",
       "    </tr>\n",
       "    <tr>\n",
       "      <th>24261978</th>\n",
       "      <td>46661804</td>\n",
       "      <td>0.0</td>\n",
       "      <td>0</td>\n",
       "      <td>17.99</td>\n",
       "      <td>1690913096</td>\n",
       "      <td>588</td>\n",
       "      <td>363</td>\n",
       "      <td>8</td>\n",
       "    </tr>\n",
       "  </tbody>\n",
       "</table>\n",
       "<p>12129384 rows × 8 columns</p>\n",
       "</div>"
      ],
      "text/plain": [
       "          customer_id  date_diff_post  ...  ownareaall_sqm  format_name\n",
       "0               29891             9.0  ...             363            2\n",
       "1               29891             9.0  ...             363            2\n",
       "2               29891             9.0  ...             363            2\n",
       "3               29891             9.0  ...             363            2\n",
       "4               29891             9.0  ...             363            2\n",
       "...               ...             ...  ...             ...          ...\n",
       "24261974     46661804             0.0  ...             363            8\n",
       "24261975     46661804             0.0  ...             363            8\n",
       "24261976     46661804             0.0  ...             363            8\n",
       "24261977     46661804             0.0  ...             363            8\n",
       "24261978     46661804             0.0  ...             363            8\n",
       "\n",
       "[12129384 rows x 8 columns]"
      ]
     },
     "execution_count": 6,
     "metadata": {},
     "output_type": "execute_result"
    }
   ],
   "source": [
    "from sklearn.preprocessing import LabelEncoder\n",
    "labelencoder = LabelEncoder()\n",
    "\n",
    "train_data['dish_name'] = train_data['dish_name'].astype(str)\n",
    "train_data['ownareaall_sqm'] = train_data['ownareaall_sqm'].astype(str)\n",
    "train_data['format_name'] = train_data['format_name'].astype(str)\n",
    "\n",
    "train_data['dish_name'] = labelencoder.fit_transform(train_data['dish_name'])\n",
    "train_data['ownareaall_sqm'] = labelencoder.fit_transform(train_data['ownareaall_sqm'])\n",
    "train_data['format_name'] = labelencoder.fit_transform(train_data['format_name'])\n",
    "\n",
    "train_data['startdatetime'] = (train_data['startdatetime'] - pd.Timestamp(\"1970-01-01\")) // pd.Timedelta('1s')\n",
    "train_data.drop('group_name', axis=1, inplace=True)\n",
    "\n",
    "train_data"
   ]
  },
  {
   "cell_type": "code",
   "execution_count": null,
   "id": "3440ad07-dda6-4ac1-8bc7-9cb80db1dfb8",
   "metadata": {
    "execution": {
     "iopub.execute_input": "2023-11-25T09:57:40.950642Z",
     "iopub.status.busy": "2023-11-25T09:57:40.949583Z"
    },
    "tags": []
   },
   "outputs": [],
   "source": [
    "aggregation_functions = {\n",
    "    'revenue': lambda x: x.median(),  # медиана\n",
    "    'startdatetime': 'max',  # Последняя дата\n",
    "    'dish_name': lambda x: x.mode().iloc[0],  # Наиболее часто встречающеес блюд, которые покупал пользователь\n",
    "    'ownareaall_sqm': lambda x: x.mode().iloc[0],  # Наиболее часто встречающеес площадей ресторана\n",
    "    'format_name': lambda x: x.mode().iloc[0]    # Наиболее часто встречающееся значение площади ресторана\n",
    "}\n",
    "\n",
    "train_data = train_data.groupby(['customer_id','buy_post', 'date_diff_post']).agg(aggregation_functions).reset_index()\n",
    "train_data"
   ]
  },
  {
   "cell_type": "code",
   "execution_count": 9,
   "id": "e2247e28-5133-4469-8eaf-413d3b33c91f",
   "metadata": {
    "execution": {
     "iopub.execute_input": "2023-11-25T09:55:30.265973Z",
     "iopub.status.busy": "2023-11-25T09:55:30.264592Z",
     "iopub.status.idle": "2023-11-25T09:55:30.514526Z",
     "shell.execute_reply": "2023-11-25T09:55:30.512741Z",
     "shell.execute_reply.started": "2023-11-25T09:55:30.265914Z"
    },
    "tags": []
   },
   "outputs": [
    {
     "ename": "ValueError",
     "evalue": "DataFrame.dtypes for data must be int, float, bool or category. When categorical type is supplied, The experimental DMatrix parameter`enable_categorical` must be set to `True`.  Invalid columns:dish_name: object, ownareaall_sqm: object",
     "output_type": "error",
     "traceback": [
      "\u001b[0;31m---------------------------------------------------------------------------\u001b[0m",
      "\u001b[0;31mValueError\u001b[0m                                Traceback (most recent call last)",
      "\u001b[0;32m<ipython-input-9-d764bc55fc82>\u001b[0m in \u001b[0;36m<module>\u001b[0;34m\u001b[0m\n\u001b[1;32m      9\u001b[0m \u001b[0;31m# Создание и обучение модели градиентного бустинга (XGBoost)\u001b[0m\u001b[0;34m\u001b[0m\u001b[0;34m\u001b[0m\u001b[0m\n\u001b[1;32m     10\u001b[0m \u001b[0mxgb_model\u001b[0m \u001b[0;34m=\u001b[0m \u001b[0mXGBClassifier\u001b[0m\u001b[0;34m(\u001b[0m\u001b[0;34m)\u001b[0m\u001b[0;34m\u001b[0m\u001b[0;34m\u001b[0m\u001b[0m\n\u001b[0;32m---> 11\u001b[0;31m \u001b[0mxgb_model\u001b[0m\u001b[0;34m.\u001b[0m\u001b[0mfit\u001b[0m\u001b[0;34m(\u001b[0m\u001b[0mX_train\u001b[0m\u001b[0;34m,\u001b[0m \u001b[0my_train\u001b[0m\u001b[0;34m)\u001b[0m\u001b[0;34m\u001b[0m\u001b[0;34m\u001b[0m\u001b[0m\n\u001b[0m\u001b[1;32m     12\u001b[0m \u001b[0mxgb_pred\u001b[0m \u001b[0;34m=\u001b[0m \u001b[0mxgb_model\u001b[0m\u001b[0;34m.\u001b[0m\u001b[0mpredict\u001b[0m\u001b[0;34m(\u001b[0m\u001b[0mX_test\u001b[0m\u001b[0;34m)\u001b[0m\u001b[0;34m\u001b[0m\u001b[0;34m\u001b[0m\u001b[0m\n\u001b[1;32m     13\u001b[0m \u001b[0;34m\u001b[0m\u001b[0m\n",
      "\u001b[0;32m/usr/local/lib/python3.10/dist-packages/xgboost/core.py\u001b[0m in \u001b[0;36minner_f\u001b[0;34m(*args, **kwargs)\u001b[0m\n\u001b[1;32m    618\u001b[0m             \u001b[0;32mfor\u001b[0m \u001b[0mk\u001b[0m\u001b[0;34m,\u001b[0m \u001b[0marg\u001b[0m \u001b[0;32min\u001b[0m \u001b[0mzip\u001b[0m\u001b[0;34m(\u001b[0m\u001b[0msig\u001b[0m\u001b[0;34m.\u001b[0m\u001b[0mparameters\u001b[0m\u001b[0;34m,\u001b[0m \u001b[0margs\u001b[0m\u001b[0;34m)\u001b[0m\u001b[0;34m:\u001b[0m\u001b[0;34m\u001b[0m\u001b[0;34m\u001b[0m\u001b[0m\n\u001b[1;32m    619\u001b[0m                 \u001b[0mkwargs\u001b[0m\u001b[0;34m[\u001b[0m\u001b[0mk\u001b[0m\u001b[0;34m]\u001b[0m \u001b[0;34m=\u001b[0m \u001b[0marg\u001b[0m\u001b[0;34m\u001b[0m\u001b[0;34m\u001b[0m\u001b[0m\n\u001b[0;32m--> 620\u001b[0;31m             \u001b[0;32mreturn\u001b[0m \u001b[0mfunc\u001b[0m\u001b[0;34m(\u001b[0m\u001b[0;34m**\u001b[0m\u001b[0mkwargs\u001b[0m\u001b[0;34m)\u001b[0m\u001b[0;34m\u001b[0m\u001b[0;34m\u001b[0m\u001b[0m\n\u001b[0m\u001b[1;32m    621\u001b[0m \u001b[0;34m\u001b[0m\u001b[0m\n\u001b[1;32m    622\u001b[0m         \u001b[0;32mreturn\u001b[0m \u001b[0minner_f\u001b[0m\u001b[0;34m\u001b[0m\u001b[0;34m\u001b[0m\u001b[0m\n",
      "\u001b[0;32m/usr/local/lib/python3.10/dist-packages/xgboost/sklearn.py\u001b[0m in \u001b[0;36mfit\u001b[0;34m(self, X, y, sample_weight, base_margin, eval_set, eval_metric, early_stopping_rounds, verbose, xgb_model, sample_weight_eval_set, base_margin_eval_set, feature_weights, callbacks)\u001b[0m\n\u001b[1;32m   1469\u001b[0m                 \u001b[0mxgb_model\u001b[0m\u001b[0;34m,\u001b[0m \u001b[0meval_metric\u001b[0m\u001b[0;34m,\u001b[0m \u001b[0mparams\u001b[0m\u001b[0;34m,\u001b[0m \u001b[0mearly_stopping_rounds\u001b[0m\u001b[0;34m,\u001b[0m \u001b[0mcallbacks\u001b[0m\u001b[0;34m\u001b[0m\u001b[0;34m\u001b[0m\u001b[0m\n\u001b[1;32m   1470\u001b[0m             )\n\u001b[0;32m-> 1471\u001b[0;31m             train_dmatrix, evals = _wrap_evaluation_matrices(\n\u001b[0m\u001b[1;32m   1472\u001b[0m                 \u001b[0mmissing\u001b[0m\u001b[0;34m=\u001b[0m\u001b[0mself\u001b[0m\u001b[0;34m.\u001b[0m\u001b[0mmissing\u001b[0m\u001b[0;34m,\u001b[0m\u001b[0;34m\u001b[0m\u001b[0;34m\u001b[0m\u001b[0m\n\u001b[1;32m   1473\u001b[0m                 \u001b[0mX\u001b[0m\u001b[0;34m=\u001b[0m\u001b[0mX\u001b[0m\u001b[0;34m,\u001b[0m\u001b[0;34m\u001b[0m\u001b[0;34m\u001b[0m\u001b[0m\n",
      "\u001b[0;32m/usr/local/lib/python3.10/dist-packages/xgboost/sklearn.py\u001b[0m in \u001b[0;36m_wrap_evaluation_matrices\u001b[0;34m(missing, X, y, group, qid, sample_weight, base_margin, feature_weights, eval_set, sample_weight_eval_set, base_margin_eval_set, eval_group, eval_qid, create_dmatrix, enable_categorical, feature_types)\u001b[0m\n\u001b[1;32m    446\u001b[0m     \"\"\"Convert array_like evaluation matrices into DMatrix.  Perform validation on the\n\u001b[1;32m    447\u001b[0m     way.\"\"\"\n\u001b[0;32m--> 448\u001b[0;31m     train_dmatrix = create_dmatrix(\n\u001b[0m\u001b[1;32m    449\u001b[0m         \u001b[0mdata\u001b[0m\u001b[0;34m=\u001b[0m\u001b[0mX\u001b[0m\u001b[0;34m,\u001b[0m\u001b[0;34m\u001b[0m\u001b[0;34m\u001b[0m\u001b[0m\n\u001b[1;32m    450\u001b[0m         \u001b[0mlabel\u001b[0m\u001b[0;34m=\u001b[0m\u001b[0my\u001b[0m\u001b[0;34m,\u001b[0m\u001b[0;34m\u001b[0m\u001b[0;34m\u001b[0m\u001b[0m\n",
      "\u001b[0;32m/usr/local/lib/python3.10/dist-packages/xgboost/sklearn.py\u001b[0m in \u001b[0;36m_create_dmatrix\u001b[0;34m(self, ref, **kwargs)\u001b[0m\n\u001b[1;32m    906\u001b[0m             \u001b[0;32mexcept\u001b[0m \u001b[0mTypeError\u001b[0m\u001b[0;34m:\u001b[0m  \u001b[0;31m# `QuantileDMatrix` supports lesser types than DMatrix\u001b[0m\u001b[0;34m\u001b[0m\u001b[0;34m\u001b[0m\u001b[0m\n\u001b[1;32m    907\u001b[0m                 \u001b[0;32mpass\u001b[0m\u001b[0;34m\u001b[0m\u001b[0;34m\u001b[0m\u001b[0m\n\u001b[0;32m--> 908\u001b[0;31m         \u001b[0;32mreturn\u001b[0m \u001b[0mDMatrix\u001b[0m\u001b[0;34m(\u001b[0m\u001b[0;34m**\u001b[0m\u001b[0mkwargs\u001b[0m\u001b[0;34m,\u001b[0m \u001b[0mnthread\u001b[0m\u001b[0;34m=\u001b[0m\u001b[0mself\u001b[0m\u001b[0;34m.\u001b[0m\u001b[0mn_jobs\u001b[0m\u001b[0;34m)\u001b[0m\u001b[0;34m\u001b[0m\u001b[0;34m\u001b[0m\u001b[0m\n\u001b[0m\u001b[1;32m    909\u001b[0m \u001b[0;34m\u001b[0m\u001b[0m\n\u001b[1;32m    910\u001b[0m     \u001b[0;32mdef\u001b[0m \u001b[0m_set_evaluation_result\u001b[0m\u001b[0;34m(\u001b[0m\u001b[0mself\u001b[0m\u001b[0;34m,\u001b[0m \u001b[0mevals_result\u001b[0m\u001b[0;34m:\u001b[0m \u001b[0mTrainingCallback\u001b[0m\u001b[0;34m.\u001b[0m\u001b[0mEvalsLog\u001b[0m\u001b[0;34m)\u001b[0m \u001b[0;34m->\u001b[0m \u001b[0;32mNone\u001b[0m\u001b[0;34m:\u001b[0m\u001b[0;34m\u001b[0m\u001b[0;34m\u001b[0m\u001b[0m\n",
      "\u001b[0;32m/usr/local/lib/python3.10/dist-packages/xgboost/core.py\u001b[0m in \u001b[0;36minner_f\u001b[0;34m(*args, **kwargs)\u001b[0m\n\u001b[1;32m    618\u001b[0m             \u001b[0;32mfor\u001b[0m \u001b[0mk\u001b[0m\u001b[0;34m,\u001b[0m \u001b[0marg\u001b[0m \u001b[0;32min\u001b[0m \u001b[0mzip\u001b[0m\u001b[0;34m(\u001b[0m\u001b[0msig\u001b[0m\u001b[0;34m.\u001b[0m\u001b[0mparameters\u001b[0m\u001b[0;34m,\u001b[0m \u001b[0margs\u001b[0m\u001b[0;34m)\u001b[0m\u001b[0;34m:\u001b[0m\u001b[0;34m\u001b[0m\u001b[0;34m\u001b[0m\u001b[0m\n\u001b[1;32m    619\u001b[0m                 \u001b[0mkwargs\u001b[0m\u001b[0;34m[\u001b[0m\u001b[0mk\u001b[0m\u001b[0;34m]\u001b[0m \u001b[0;34m=\u001b[0m \u001b[0marg\u001b[0m\u001b[0;34m\u001b[0m\u001b[0;34m\u001b[0m\u001b[0m\n\u001b[0;32m--> 620\u001b[0;31m             \u001b[0;32mreturn\u001b[0m \u001b[0mfunc\u001b[0m\u001b[0;34m(\u001b[0m\u001b[0;34m**\u001b[0m\u001b[0mkwargs\u001b[0m\u001b[0;34m)\u001b[0m\u001b[0;34m\u001b[0m\u001b[0;34m\u001b[0m\u001b[0m\n\u001b[0m\u001b[1;32m    621\u001b[0m \u001b[0;34m\u001b[0m\u001b[0m\n\u001b[1;32m    622\u001b[0m         \u001b[0;32mreturn\u001b[0m \u001b[0minner_f\u001b[0m\u001b[0;34m\u001b[0m\u001b[0;34m\u001b[0m\u001b[0m\n",
      "\u001b[0;32m/usr/local/lib/python3.10/dist-packages/xgboost/core.py\u001b[0m in \u001b[0;36m__init__\u001b[0;34m(self, data, label, weight, base_margin, missing, silent, feature_names, feature_types, nthread, group, qid, label_lower_bound, label_upper_bound, feature_weights, enable_categorical)\u001b[0m\n\u001b[1;32m    741\u001b[0m             \u001b[0;32mreturn\u001b[0m\u001b[0;34m\u001b[0m\u001b[0;34m\u001b[0m\u001b[0m\n\u001b[1;32m    742\u001b[0m \u001b[0;34m\u001b[0m\u001b[0m\n\u001b[0;32m--> 743\u001b[0;31m         handle, feature_names, feature_types = dispatch_data_backend(\n\u001b[0m\u001b[1;32m    744\u001b[0m             \u001b[0mdata\u001b[0m\u001b[0;34m,\u001b[0m\u001b[0;34m\u001b[0m\u001b[0;34m\u001b[0m\u001b[0m\n\u001b[1;32m    745\u001b[0m             \u001b[0mmissing\u001b[0m\u001b[0;34m=\u001b[0m\u001b[0mself\u001b[0m\u001b[0;34m.\u001b[0m\u001b[0mmissing\u001b[0m\u001b[0;34m,\u001b[0m\u001b[0;34m\u001b[0m\u001b[0;34m\u001b[0m\u001b[0m\n",
      "\u001b[0;32m/usr/local/lib/python3.10/dist-packages/xgboost/data.py\u001b[0m in \u001b[0;36mdispatch_data_backend\u001b[0;34m(data, missing, threads, feature_names, feature_types, enable_categorical)\u001b[0m\n\u001b[1;32m    968\u001b[0m         \u001b[0;32mreturn\u001b[0m \u001b[0m_from_tuple\u001b[0m\u001b[0;34m(\u001b[0m\u001b[0mdata\u001b[0m\u001b[0;34m,\u001b[0m \u001b[0mmissing\u001b[0m\u001b[0;34m,\u001b[0m \u001b[0mthreads\u001b[0m\u001b[0;34m,\u001b[0m \u001b[0mfeature_names\u001b[0m\u001b[0;34m,\u001b[0m \u001b[0mfeature_types\u001b[0m\u001b[0;34m)\u001b[0m\u001b[0;34m\u001b[0m\u001b[0;34m\u001b[0m\u001b[0m\n\u001b[1;32m    969\u001b[0m     \u001b[0;32mif\u001b[0m \u001b[0m_is_pandas_df\u001b[0m\u001b[0;34m(\u001b[0m\u001b[0mdata\u001b[0m\u001b[0;34m)\u001b[0m\u001b[0;34m:\u001b[0m\u001b[0;34m\u001b[0m\u001b[0;34m\u001b[0m\u001b[0m\n\u001b[0;32m--> 970\u001b[0;31m         return _from_pandas_df(data, enable_categorical, missing, threads,\n\u001b[0m\u001b[1;32m    971\u001b[0m                                feature_names, feature_types)\n\u001b[1;32m    972\u001b[0m     \u001b[0;32mif\u001b[0m \u001b[0m_is_pandas_series\u001b[0m\u001b[0;34m(\u001b[0m\u001b[0mdata\u001b[0m\u001b[0;34m)\u001b[0m\u001b[0;34m:\u001b[0m\u001b[0;34m\u001b[0m\u001b[0;34m\u001b[0m\u001b[0m\n",
      "\u001b[0;32m/usr/local/lib/python3.10/dist-packages/xgboost/data.py\u001b[0m in \u001b[0;36m_from_pandas_df\u001b[0;34m(data, enable_categorical, missing, nthread, feature_names, feature_types)\u001b[0m\n\u001b[1;32m    415\u001b[0m     \u001b[0mfeature_types\u001b[0m\u001b[0;34m:\u001b[0m \u001b[0mOptional\u001b[0m\u001b[0;34m[\u001b[0m\u001b[0mFeatureTypes\u001b[0m\u001b[0;34m]\u001b[0m\u001b[0;34m,\u001b[0m\u001b[0;34m\u001b[0m\u001b[0;34m\u001b[0m\u001b[0m\n\u001b[1;32m    416\u001b[0m ) -> DispatchedDataBackendReturnType:\n\u001b[0;32m--> 417\u001b[0;31m     data, feature_names, feature_types = _transform_pandas_df(\n\u001b[0m\u001b[1;32m    418\u001b[0m         \u001b[0mdata\u001b[0m\u001b[0;34m,\u001b[0m \u001b[0menable_categorical\u001b[0m\u001b[0;34m,\u001b[0m \u001b[0mfeature_names\u001b[0m\u001b[0;34m,\u001b[0m \u001b[0mfeature_types\u001b[0m\u001b[0;34m\u001b[0m\u001b[0;34m\u001b[0m\u001b[0m\n\u001b[1;32m    419\u001b[0m     )\n",
      "\u001b[0;32m/usr/local/lib/python3.10/dist-packages/xgboost/data.py\u001b[0m in \u001b[0;36m_transform_pandas_df\u001b[0;34m(data, enable_categorical, feature_names, feature_types, meta, meta_type)\u001b[0m\n\u001b[1;32m    389\u001b[0m         \u001b[0;32mfor\u001b[0m \u001b[0mdtype\u001b[0m \u001b[0;32min\u001b[0m \u001b[0mdata\u001b[0m\u001b[0;34m.\u001b[0m\u001b[0mdtypes\u001b[0m\u001b[0;34m\u001b[0m\u001b[0;34m\u001b[0m\u001b[0m\n\u001b[1;32m    390\u001b[0m     ):\n\u001b[0;32m--> 391\u001b[0;31m         \u001b[0m_invalid_dataframe_dtype\u001b[0m\u001b[0;34m(\u001b[0m\u001b[0mdata\u001b[0m\u001b[0;34m)\u001b[0m\u001b[0;34m\u001b[0m\u001b[0;34m\u001b[0m\u001b[0m\n\u001b[0m\u001b[1;32m    392\u001b[0m \u001b[0;34m\u001b[0m\u001b[0m\n\u001b[1;32m    393\u001b[0m     feature_names, feature_types = _pandas_feature_info(\n",
      "\u001b[0;32m/usr/local/lib/python3.10/dist-packages/xgboost/data.py\u001b[0m in \u001b[0;36m_invalid_dataframe_dtype\u001b[0;34m(data)\u001b[0m\n\u001b[1;32m    281\u001b[0m     \u001b[0mtype_err\u001b[0m \u001b[0;34m=\u001b[0m \u001b[0;34m\"DataFrame.dtypes for data must be int, float, bool or category.\"\u001b[0m\u001b[0;34m\u001b[0m\u001b[0;34m\u001b[0m\u001b[0m\n\u001b[1;32m    282\u001b[0m     \u001b[0mmsg\u001b[0m \u001b[0;34m=\u001b[0m \u001b[0;34mf\"\"\"{type_err} {_ENABLE_CAT_ERR} {err}\"\"\"\u001b[0m\u001b[0;34m\u001b[0m\u001b[0;34m\u001b[0m\u001b[0m\n\u001b[0;32m--> 283\u001b[0;31m     \u001b[0;32mraise\u001b[0m \u001b[0mValueError\u001b[0m\u001b[0;34m(\u001b[0m\u001b[0mmsg\u001b[0m\u001b[0;34m)\u001b[0m\u001b[0;34m\u001b[0m\u001b[0;34m\u001b[0m\u001b[0m\n\u001b[0m\u001b[1;32m    284\u001b[0m \u001b[0;34m\u001b[0m\u001b[0m\n\u001b[1;32m    285\u001b[0m \u001b[0;34m\u001b[0m\u001b[0m\n",
      "\u001b[0;31mValueError\u001b[0m: DataFrame.dtypes for data must be int, float, bool or category. When categorical type is supplied, The experimental DMatrix parameter`enable_categorical` must be set to `True`.  Invalid columns:dish_name: object, ownareaall_sqm: object"
     ]
    }
   ],
   "source": [
    "# Разбивка данных на обучающий и тестовый наборы\n",
    "# модуль buy_post\n",
    "columns_to_drop = ['date_diff_post', 'buy_post','customer_id']\n",
    "X = train_data.drop(columns_to_drop, axis=1)  # Признаки, кроме выручки\n",
    "y = train_data['buy_post']  # Целевая переменная (выручка)\n",
    "X_train, X_test, y_train, y_test = train_test_split(X, y, test_size=0.2, random_state=42)\n",
    "\n",
    "\n",
    "# Создание и обучение модели градиентного бустинга (XGBoost)\n",
    "xgb_model = XGBClassifier()\n",
    "xgb_model.fit(X_train, y_train)\n",
    "xgb_pred = xgb_model.predict(X_test)\n",
    "\n",
    "# Создание и обучение модели градиентного бустинга (LightGBM)\n",
    "lgbm_model = LGBMClassifier()\n",
    "lgbm_model.fit(X_train, y_train)\n",
    "lgbm_pred = lgbm_model.predict(X_test)\n",
    "\n",
    "# Создание и обучение модели случайного леса\n",
    "rf_model = RandomForestClassifier()\n",
    "rf_model.fit(X_train, y_train)\n",
    "rf_pred = rf_model.predict(X_test)\n",
    "\n",
    "# Оценка среднеквадратичной ошибки для каждой модели\n",
    "xgb_mse = mean_squared_error(y_test, xgb_pred)\n",
    "lgbm_mse = mean_squared_error(y_test, lgbm_pred)\n",
    "rf_mse = mean_squared_error(y_test, rf_pred)\n",
    "\n",
    "# Вывод результатов\n",
    "print(f\"XGBoost MSE: {xgb_mse}\")\n",
    "print(f\"LightGBM MSE: {lgbm_mse}\")\n",
    "print(f\"Random Forest MSE: {rf_mse}\")\n",
    "\n",
    "# Выбор лучшей модели на основе среднеквадратичной ошибки\n",
    "best_model = min([(xgb_mse, \"XGBoost\"), (lgbm_mse, \"LightGBM\"), (rf_mse, \"Random Forest\")])[1]\n",
    "print(f\"Лучшая модель для определения оттока: {best_model}\")"
   ]
  },
  {
   "cell_type": "code",
   "execution_count": null,
   "id": "500a2a5d-ae14-4af0-8cf7-3083e3492d7a",
   "metadata": {
    "execution": {
     "iopub.status.busy": "2023-11-25T09:50:03.646186Z",
     "iopub.status.idle": "2023-11-25T09:50:03.647622Z",
     "shell.execute_reply": "2023-11-25T09:50:03.647313Z"
    }
   },
   "outputs": [],
   "source": [
    "train_data"
   ]
  },
  {
   "cell_type": "code",
   "execution_count": null,
   "id": "f04d5915-92a2-4c34-a2c3-cc575ef94aba",
   "metadata": {
    "execution": {
     "iopub.status.busy": "2023-11-25T09:50:03.649643Z",
     "iopub.status.idle": "2023-11-25T09:50:03.650571Z",
     "shell.execute_reply": "2023-11-25T09:50:03.650343Z"
    },
    "tags": []
   },
   "outputs": [],
   "source": [
    "from sklearn.metrics import f1_score\n",
    "\n",
    "y_train = (y_train > 0.5).astype(int)\n",
    "y_test = (y_test > 0.5).astype(int)\n",
    "\n",
    "xgb_f1_score = f1_score(y_test, xgb_pred)\n",
    "lgbm_f1_score = f1_score(y_test, lgbm_pred)\n",
    "rf_f1_score = f1_score(y_test, rf_pred)\n",
    "\n",
    "# Вывод результатов F1-скора\n",
    "print(f\"XGBoost F1-score: {xgb_f1_score}\")\n",
    "print(f\"LightGBM F1-score: {lgbm_f1_score}\")\n",
    "print(f\"Random Forest F1-score: {rf_f1_score}\")"
   ]
  },
  {
   "cell_type": "code",
   "execution_count": null,
   "id": "c454bb77-c2a4-4d34-9961-9104943a2939",
   "metadata": {
    "execution": {
     "iopub.status.busy": "2023-11-25T09:50:03.651973Z",
     "iopub.status.idle": "2023-11-25T09:50:03.652677Z",
     "shell.execute_reply": "2023-11-25T09:50:03.652395Z"
    }
   },
   "outputs": [],
   "source": [
    "# ROC и AUC графики\n",
    "import matplotlib.pyplot as plt\n",
    "from sklearn.metrics import roc_curve, roc_auc_score\n",
    "\n",
    "# Получение вероятностей для получения ROC и AUC\n",
    "xgb_proba = xgb_model.predict_proba(X_test)[:, 1]\n",
    "lgbm_proba = lgbm_model.predict_proba(X_test)[:, 1]\n",
    "rf_proba = rf_model.predict_proba(X_test)[:, 1]\n",
    "\n",
    "# Вычисление ROC и AUC\n",
    "xgb_fpr, xgb_tpr, _ = roc_curve(y_test, xgb_proba)\n",
    "lgbm_fpr, lgbm_tpr, _ = roc_curve(y_test, lgbm_proba)\n",
    "rf_fpr, rf_tpr, _ = roc_curve(y_test, rf_proba)\n",
    "\n",
    "xgb_auc = roc_auc_score(y_test, xgb_proba)\n",
    "lgbm_auc = roc_auc_score(y_test, lgbm_proba)\n",
    "rf_auc = roc_auc_score(y_test, rf_proba)\n",
    "\n",
    "# Построение ROC графика\n",
    "plt.figure(figsize=(8, 6))\n",
    "plt.plot(xgb_fpr, xgb_tpr, label=f'XGBoost (AUC = {xgb_auc:.2f})')\n",
    "plt.plot(lgbm_fpr, lgbm_tpr, label=f'LightGBM (AUC = {lgbm_auc:.2f})')\n",
    "plt.plot(rf_fpr, rf_tpr, label=f'Random Forest (AUC = {rf_auc:.2f})')\n",
    "plt.plot([0, 1], [0, 1], linestyle='--', color='grey')\n",
    "plt.xlabel('False Positive Rate')\n",
    "plt.ylabel('True Positive Rate')\n",
    "plt.title('Receiver Operating Characteristic (ROC) Curve')\n",
    "plt.legend()\n",
    "plt.show()"
   ]
  },
  {
   "cell_type": "code",
   "execution_count": null,
   "id": "a91f1504-8d3e-49fa-be43-6202e0298368",
   "metadata": {
    "execution": {
     "iopub.status.busy": "2023-11-25T09:50:03.654218Z",
     "iopub.status.idle": "2023-11-25T09:50:03.654844Z",
     "shell.execute_reply": "2023-11-25T09:50:03.654635Z"
    },
    "tags": []
   },
   "outputs": [],
   "source": [
    "# Разбивка данных на обучающий и тестовый наборы\n",
    "# модуль date_diff_post\n",
    "\n",
    "columns_to_drop = ['date_diff_post','customer_id']\n",
    "X_Regressor = train_data.drop(columns_to_drop, axis=1)  # Признаки, кроме выручки\n",
    "y_Regressor = train_data['date_diff_post']  # Целевая переменная (выручка)\n",
    "X_train_Regressor, X_test_Regressor, y_train_Regressor, y_test_Regressor = train_test_split(X_Regressor, y_Regressor, test_size=0.2, random_state=42)\n",
    "\n",
    "# Создание и обучение модели градиентного бустинга (XGBoost)\n",
    "xgb_model_Regressor = XGBRegressor()\n",
    "xgb_model_Regressor.fit(X_train_Regressor, y_train_Regressor)\n",
    "xgb_pred_Regressor = xgb_model_Regressor.predict(X_test_Regressor)\n",
    "\n",
    "# Создание и обучение модели градиентного бустинга (LightGBM)\n",
    "lgbm_model_Regressor = LGBMRegressor()\n",
    "lgbm_model_Regressor.fit(X_train_Regressor, y_train_Regressor)\n",
    "lgbm_pred_Regressor = lgbm_model_Regressor.predict(X_test_Regressor)\n",
    "\n",
    "# Создание и обучение модели случайного леса\n",
    "rf_model_Regressor = RandomForestRegressor()\n",
    "rf_model_Regressor.fit(X_train_Regressor, y_train_Regressor)\n",
    "rf_pred_Regressor = rf_model_Regressor.predict(X_test_Regressor)\n",
    "\n",
    "# Оценка среднеквадратичной ошибки для каждой модели\n",
    "xgb_mse_Regressor = mean_squared_error(y_test_Regressor, xgb_pred_Regressor)\n",
    "lgbm_mse_Regressor = mean_squared_error(y_test_Regressor, lgbm_pred_Regressor)\n",
    "rf_mse_Regressor = mean_squared_error(y_test_Regressor, rf_pred_Regressor)\n",
    "\n",
    "# Вывод результатов\n",
    "print(f\"XGBoost MSE: {xgb_mse_Regressor}\")\n",
    "print(f\"LightGBM MSE: {lgbm_mse_Regressor}\")\n",
    "print(f\"Random Forest MSE: {rf_mse_Regressor}\")\n",
    "\n",
    "# Выбор лучшей модели на основе среднеквадратичной ошибки\n",
    "best_model_Regressor = min([(xgb_mse_Regressor, \"XGBoost\"), (lgbm_mse_Regressor, \"LightGBM\"), (rf_mse_Regressor, \"Random Forest\")])[1]\n",
    "print(f\"Лучшая модель для определения date_diff_post: {best_model_Regressor}\")"
   ]
  },
  {
   "cell_type": "code",
   "execution_count": null,
   "id": "591cb8ac-44fb-41bb-93cc-c79d073d4e7e",
   "metadata": {
    "execution": {
     "iopub.status.busy": "2023-11-25T09:50:03.656197Z",
     "iopub.status.idle": "2023-11-25T09:50:03.656847Z",
     "shell.execute_reply": "2023-11-25T09:50:03.656649Z"
    }
   },
   "outputs": [],
   "source": [
    "from sklearn.metrics import mean_absolute_error\n",
    "xgb_mae_Regressor = mean_absolute_error(y_test_Regressor, xgb_pred_Regressor)\n",
    "lgbm_mae_Regressor = mean_absolute_error(y_test_Regressor, lgbm_pred_Regressor)\n",
    "rf_mae_Regressor = mean_absolute_error(y_test_Regressor, rf_pred_Regressor)\n",
    "\n",
    "# Вывод результатов MAE\n",
    "print(f\"XGBoost MAE: {xgb_mae_Regressor}\")\n",
    "print(f\"LightGBM MAE: {lgbm_mae_Regressor}\")\n",
    "print(f\"Random Forest MAE: {rf_mae_Regressor}\")\n",
    "\n",
    "best_model_Regressor = min([(xgb_mse_Regressor, \"XGBoost\"), (lgbm_mse_Regressor, \"LightGBM\"), (rf_mse_Regressor, \"Random Forest\")])[1]\n",
    "print(f\"Лучшая модель для определения date_diff_post по MAE: {best_model_Regressor}\")"
   ]
  },
  {
   "cell_type": "code",
   "execution_count": null,
   "id": "29e2729e-e53b-405b-b636-c6a2d7c2afc4",
   "metadata": {
    "execution": {
     "iopub.status.busy": "2023-11-25T09:50:03.657984Z",
     "iopub.status.idle": "2023-11-25T09:50:03.658684Z",
     "shell.execute_reply": "2023-11-25T09:50:03.658469Z"
    }
   },
   "outputs": [],
   "source": [
    "from sklearn.metrics import r2_score\n",
    "\n",
    "xgb_r2_Regressor = r2_score(y_test_Regressor, xgb_pred_Regressor)\n",
    "lgbm_r2_Regressor = r2_score(y_test_Regressor, lgbm_pred_Regressor)\n",
    "rf_r2_Regressor = r2_score(y_test_Regressor, rf_pred_Regressor)\n",
    "\n",
    "print(f\"XGBoost R²: {xgb_r2_Regressor}\")\n",
    "print(f\"LightGBM R²: {lgbm_r2_Regressor}\")\n",
    "print(f\"Random Forest R²: {rf_r2_Regressor}\")\n",
    "\n",
    "best_model_Regressor = min([(xgb_mse_Regressor, \"XGBoost\"), (lgbm_mse_Regressor, \"LightGBM\"), (rf_mse_Regressor, \"Random Forest\")])[1]\n",
    "print(f\"Лучшая модель для определения date_diff_post по R²: {best_model_Regressor}\")"
   ]
  },
  {
   "cell_type": "code",
   "execution_count": null,
   "id": "3ce47d72-69a6-426e-9c20-ca7068fafe7e",
   "metadata": {
    "execution": {
     "iopub.status.busy": "2023-11-25T09:50:03.659840Z",
     "iopub.status.idle": "2023-11-25T09:50:03.660631Z",
     "shell.execute_reply": "2023-11-25T09:50:03.660371Z"
    }
   },
   "outputs": [],
   "source": [
    "from sklearn.metrics import mean_squared_error\n",
    "import numpy as np\n",
    "\n",
    "# Рассчет RMSE для каждой модели\n",
    "xgb_rmse_Regressor = np.sqrt(mean_squared_error(y_test_Regressor, xgb_pred_Regressor))\n",
    "lgbm_rmse_Regressor = np.sqrt(mean_squared_error(y_test_Regressor, lgbm_pred_Regressor))\n",
    "rf_rmse_Regressor = np.sqrt(mean_squared_error(y_test_Regressor, rf_pred_Regressor))\n",
    "\n",
    "# Вывод результатов\n",
    "print(f\"XGBoost RMSE: {xgb_rmse_Regressor}\")\n",
    "print(f\"LightGBM RMSE: {lgbm_rmse_Regressor}\")\n",
    "print(f\"Random Forest RMSE: {rf_rmse_Regressor}\")\n",
    "\n",
    "# Выбор лучшей модели на основе RMSE\n",
    "best_model_rmse_Regressor = min([(xgb_rmse_Regressor, \"XGBoost\"), (lgbm_rmse_Regressor, \"LightGBM\"), (rf_rmse_Regressor, \"Random Forest\")])[1]\n",
    "print(f\"Лучшая модель для определения date_diff_post: {best_model_rmse_Regressor}\")"
   ]
  },
  {
   "cell_type": "code",
   "execution_count": null,
   "id": "12e610ef-76e0-4fbf-9fd6-1fca7afe7b7b",
   "metadata": {
    "execution": {
     "iopub.status.busy": "2023-11-25T09:50:03.662298Z",
     "iopub.status.idle": "2023-11-25T09:50:03.663025Z",
     "shell.execute_reply": "2023-11-25T09:50:03.662797Z"
    },
    "tags": []
   },
   "outputs": [],
   "source": [
    "#генерация фалйов\n",
    "\n",
    "test_data['dish_name'] = test_data['dish_name'].astype(str)\n",
    "test_data['ownareaall_sqm'] = test_data['ownareaall_sqm'].astype(str)\n",
    "test_data['format_name'] = test_data['format_name'].astype(str)\n",
    "\n",
    "test_data['dish_name'] = labelencoder.fit_transform(test_data['dish_name'])\n",
    "test_data['ownareaall_sqm'] = labelencoder.fit_transform(test_data['ownareaall_sqm'])\n",
    "test_data['format_name'] = labelencoder.fit_transform(test_data['format_name'])\n",
    "\n",
    "test_data['startdatetime'] = (test_data['startdatetime'] - pd.Timestamp(\"1970-01-01\")) // pd.Timedelta('1s')\n",
    "test_data.drop('group_name', axis=1, inplace=True)\n",
    "\n",
    "test_data = pd.read_parquet(\"/home/jupyter/datasphere/project/test_dataset_hackaton2023_test.gzip\");\n",
    "aggregation_functions = {\n",
    "    'revenue': lambda x: x.median(),  # медиана\n",
    "    'startdatetime': 'max',  # Последняя дата\n",
    "    'dish_name': lambda x: x.mode().iloc[0],  # Наиболее часто встречающеес блюд, которые покупал пользователь\n",
    "    'ownareaall_sqm': lambda x: x.mode().iloc[0],  # Наиболее часто встречающеес площадей ресторана\n",
    "    'format_name': lambda x: x.mode().iloc[0]    # Наиболее часто встречающееся значение площади ресторана\n",
    "}\n",
    "\n",
    "test_data = test_data.groupby(['customer_id']).agg(aggregation_functions).reset_index()\n",
    "\n",
    "# Применение модели к данным\n",
    "predicted_values = lgbm_model.predict(test_data.drop('customer_id', axis=1))\n",
    "\n",
    "# Формирование файла CSV\n",
    "# Создание нового DataFrame с предсказанными значениями\n",
    "output_data = test_data[['customer_id']]  # Копирование 'customer_id' и 'startdatetime' из тестовых данных\n",
    "output_data['buy_post'] = predicted_values"
   ]
  },
  {
   "cell_type": "code",
   "execution_count": null,
   "id": "6e1c7e42-320a-4334-b2c7-8b6937d27483",
   "metadata": {
    "execution": {
     "iopub.status.busy": "2023-11-25T09:50:03.664469Z",
     "iopub.status.idle": "2023-11-25T09:50:03.665182Z",
     "shell.execute_reply": "2023-11-25T09:50:03.664958Z"
    },
    "tags": []
   },
   "outputs": [],
   "source": [
    "lgbm_model.predict_proba(test_data.drop('customer_id', axis=1))"
   ]
  },
  {
   "cell_type": "code",
   "execution_count": null,
   "id": "8748cf3c-317a-4677-9bce-1d51e999091e",
   "metadata": {
    "execution": {
     "iopub.status.busy": "2023-11-25T09:50:03.666481Z",
     "iopub.status.idle": "2023-11-25T09:50:03.667213Z",
     "shell.execute_reply": "2023-11-25T09:50:03.666974Z"
    },
    "tags": []
   },
   "outputs": [],
   "source": [
    "new_order = ['customer_id', 'buy_post', 'revenue', 'startdatetime', 'dish_name', 'ownareaall_sqm', 'format_name']\n",
    "train_data_reordered = test_data.reindex(columns=new_order)\n",
    "train_data_reordered['buy_post'] = predicted_values\n",
    "predicted_values_regress = xgb_model_Regressor.predict(train_data_reordered.drop('customer_id', axis=1))\n",
    "\n",
    "output_data['startdatetime'] =test_data['startdatetime']\n",
    "output_data['prob_score'] = lgbm_model.predict_proba(test_data.drop('customer_id', axis=1))[:, 1]\n",
    "\n",
    "\n",
    "output_data['date_diff_post'] = predicted_values_regress\n",
    "output_data['date_diff_post'] = output_data['date_diff_post'].astype(int)\n",
    "output_data.loc[output_data['buy_post'] == 0, 'date_diff_post'] = 0\n",
    "output_data"
   ]
  },
  {
   "cell_type": "code",
   "execution_count": null,
   "id": "5c5b355b-ee50-4ab8-8110-c24c00483884",
   "metadata": {
    "execution": {
     "iopub.status.busy": "2023-11-25T09:50:03.668390Z",
     "iopub.status.idle": "2023-11-25T09:50:03.669244Z",
     "shell.execute_reply": "2023-11-25T09:50:03.669039Z"
    },
    "tags": []
   },
   "outputs": [],
   "source": [
    "# Сохранение в CSV\n",
    "output_data.to_csv('predicted_output1.csv', index=False,sep=';')"
   ]
  },
  {
   "cell_type": "code",
   "execution_count": null,
   "id": "6d8da6ae-7304-4361-a8f1-42be80e3af0f",
   "metadata": {
    "execution": {
     "iopub.status.busy": "2023-11-25T09:50:03.670500Z",
     "iopub.status.idle": "2023-11-25T09:50:03.671512Z",
     "shell.execute_reply": "2023-11-25T09:50:03.671207Z"
    }
   },
   "outputs": [],
   "source": [
    "total_revenue = test_data['revenue'].sum()\n",
    "print(total_revenue)"
   ]
  },
  {
   "cell_type": "code",
   "execution_count": null,
   "id": "4a93b9ae-927f-49a9-aaf3-6ebe7a4595ec",
   "metadata": {
    "execution": {
     "iopub.status.busy": "2023-11-25T09:50:03.673238Z",
     "iopub.status.idle": "2023-11-25T09:50:03.674051Z",
     "shell.execute_reply": "2023-11-25T09:50:03.673811Z"
    }
   },
   "outputs": [],
   "source": [
    "unique_startdatetimes = test_data['startdatetime'].nunique()\n",
    "print(unique_startdatetimes)"
   ]
  },
  {
   "cell_type": "code",
   "execution_count": null,
   "id": "cf04f7f5-5249-47f6-ab6d-84acb72cae54",
   "metadata": {
    "execution": {
     "iopub.status.busy": "2023-11-25T09:50:03.675702Z",
     "iopub.status.idle": "2023-11-25T09:50:03.676401Z",
     "shell.execute_reply": "2023-11-25T09:50:03.676130Z"
    }
   },
   "outputs": [],
   "source": [
    "orders_per_date_format = test_data.groupby(['startdatetime', 'format_name']).size().reset_index(name='order_count')\n",
    "orders_per_date_format"
   ]
  },
  {
   "cell_type": "code",
   "execution_count": null,
   "id": "d2a86492-c878-4371-9f40-89c26001c7e5",
   "metadata": {},
   "outputs": [],
   "source": []
  }
 ],
 "metadata": {
  "kernelspec": {
   "display_name": "DataSphere Kernel",
   "language": "python",
   "name": "python3"
  },
  "language_info": {
   "codemirror_mode": {
    "name": "ipython",
    "version": 3
   },
   "file_extension": ".py",
   "mimetype": "text/x-python",
   "name": "python",
   "nbconvert_exporter": "python",
   "pygments_lexer": "ipython3",
   "version": "3.7.7"
  },
  "toc-autonumbering": false
 },
 "nbformat": 4,
 "nbformat_minor": 5
}
